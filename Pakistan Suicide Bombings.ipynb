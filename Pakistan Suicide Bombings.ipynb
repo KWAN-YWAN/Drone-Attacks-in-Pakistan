{
 "cells": [
  {
   "cell_type": "markdown",
   "metadata": {},
   "source": [
    "# 1. Data Cleaning"
   ]
  },
  {
   "cell_type": "code",
   "execution_count": 1,
   "metadata": {
    "collapsed": true
   },
   "outputs": [],
   "source": [
    "import pandas as pd\n",
    "import numpy as np\n",
    "import matplotlib.pyplot as plt\n",
    "from datetime import datetime"
   ]
  },
  {
   "cell_type": "code",
   "execution_count": 11,
   "metadata": {},
   "outputs": [
    {
     "name": "stdout",
     "output_type": "stream",
     "text": [
      "S# :  0\n",
      "Date :  0\n",
      "Blast Day Type :  11\n",
      "City :  0\n",
      "Latitude :  2\n",
      "Longitude :  2\n",
      "Province :  0\n",
      "Location :  3\n",
      "Location Category :  35\n",
      "Location Sensitivity :  36\n",
      "Open/Closed Space :  35\n",
      "Target Type :  26\n",
      "Targeted Sect if any :  49\n",
      "Killed Min :  146\n",
      "Killed Max :  16\n",
      "Injured Min :  131\n",
      "Injured Max :  33\n",
      "No. of Suicide Blasts :  82\n",
      "Explosive Weight (max) :  323\n",
      "Temperature(C) :  5\n",
      "Temperature(F) :  7\n"
     ]
    }
   ],
   "source": [
    "# Reading the data\n",
    "df = pd.read_csv(\"/Users/harshitsrivastava/Desktop/Drone attacks in Pakistan/PakistanSuicideAttacks.csv\")\n",
    "\n",
    "# Dropiing the Columns that are not required\n",
    "df=df.drop(['Islamic Date', 'Holiday Type', 'Influencing Event/Event', 'Hospital Names', 'Time'], axis=1)\n",
    "\n",
    "# Printing the number of missing values in the data\n",
    "for col in df:\n",
    "    print col, \": \", df[col].isnull().sum()"
   ]
  },
  {
   "cell_type": "markdown",
   "metadata": {},
   "source": [
    "### 1.1 Replacing Null Values with 0"
   ]
  },
  {
   "cell_type": "code",
   "execution_count": 12,
   "metadata": {
    "collapsed": true
   },
   "outputs": [],
   "source": [
    "def filling_nan(data):\n",
    "    \n",
    "    col = ['Killed Min', 'Injured Min', 'Injured Max']\n",
    "    \n",
    "    data[col] = data[col].fillna(0)                                  # Filling the above columns with 0\n",
    "    data['No. of Suicide Blasts'] = data['No. of Suicide Blasts'].fillna(1)\n",
    "    return data"
   ]
  },
  {
   "cell_type": "code",
   "execution_count": 13,
   "metadata": {},
   "outputs": [
    {
     "name": "stdout",
     "output_type": "stream",
     "text": [
      "S# :  0\n",
      "Date :  0\n",
      "Blast Day Type :  11\n",
      "City :  0\n",
      "Latitude :  2\n",
      "Longitude :  2\n",
      "Province :  0\n",
      "Location :  3\n",
      "Location Category :  35\n",
      "Location Sensitivity :  36\n",
      "Open/Closed Space :  35\n",
      "Target Type :  26\n",
      "Targeted Sect if any :  49\n",
      "Killed Min :  0\n",
      "Killed Max :  16\n",
      "Injured Min :  0\n",
      "Injured Max :  0\n",
      "No. of Suicide Blasts :  0\n",
      "Explosive Weight (max) :  323\n",
      "Temperature(C) :  5\n",
      "Temperature(F) :  7\n"
     ]
    }
   ],
   "source": [
    "df = filling_nan(df)\n",
    "\n",
    "# Printing the number of missing values in the data\n",
    "for col in df:\n",
    "    print col, \": \", df[col].isnull().sum()"
   ]
  },
  {
   "cell_type": "markdown",
   "metadata": {},
   "source": [
    "### 1.2 Converting to date format"
   ]
  },
  {
   "cell_type": "code",
   "execution_count": 15,
   "metadata": {
    "collapsed": true
   },
   "outputs": [],
   "source": [
    "def dt(data):\n",
    "    for i in range(0, 492):\n",
    "        \n",
    "        # Appending the Date and Time field to 'frame' and creating a new column based on the specified Date-time format\n",
    "        data['Date'][i] =  datetime.strptime(data['Date'][i], '%A-%B %d-%Y')\n",
    "    \n",
    "    return data"
   ]
  },
  {
   "cell_type": "code",
   "execution_count": 16,
   "metadata": {},
   "outputs": [
    {
     "name": "stderr",
     "output_type": "stream",
     "text": [
      "/Users/harshitsrivastava/anaconda2/lib/python2.7/site-packages/ipykernel_launcher.py:5: SettingWithCopyWarning: \n",
      "A value is trying to be set on a copy of a slice from a DataFrame\n",
      "\n",
      "See the caveats in the documentation: http://pandas.pydata.org/pandas-docs/stable/indexing.html#indexing-view-versus-copy\n",
      "  \"\"\"\n"
     ]
    }
   ],
   "source": [
    "s_data = dt(df)"
   ]
  },
  {
   "cell_type": "markdown",
   "metadata": {},
   "source": [
    "### 1.3 Marking no. of civilians killed and injured"
   ]
  },
  {
   "cell_type": "code",
   "execution_count": 17,
   "metadata": {
    "collapsed": true
   },
   "outputs": [],
   "source": [
    "# Taking average of Maximum and Minimum values \n",
    "s_data['Killed'] = (s_data['Killed Min'] + s_data['Killed Max'])/2\n",
    "s_data['Killed'] = np.ceil(s_data['Killed'])\n",
    "s_data['Injured'] = (s_data['Injured Min'] + s_data['Injured Max'])/2\n",
    "s_data['Injured'] = np.ceil(s_data['Injured'])"
   ]
  },
  {
   "cell_type": "code",
   "execution_count": 20,
   "metadata": {},
   "outputs": [
    {
     "data": {
      "text/html": [
       "<div>\n",
       "<style>\n",
       "    .dataframe thead tr:only-child th {\n",
       "        text-align: right;\n",
       "    }\n",
       "\n",
       "    .dataframe thead th {\n",
       "        text-align: left;\n",
       "    }\n",
       "\n",
       "    .dataframe tbody tr th {\n",
       "        vertical-align: top;\n",
       "    }\n",
       "</style>\n",
       "<table border=\"1\" class=\"dataframe\">\n",
       "  <thead>\n",
       "    <tr style=\"text-align: right;\">\n",
       "      <th></th>\n",
       "      <th>S#</th>\n",
       "      <th>Date</th>\n",
       "      <th>Blast Day Type</th>\n",
       "      <th>City</th>\n",
       "      <th>Latitude</th>\n",
       "      <th>Longitude</th>\n",
       "      <th>Province</th>\n",
       "      <th>Location</th>\n",
       "      <th>Location Category</th>\n",
       "      <th>Location Sensitivity</th>\n",
       "      <th>...</th>\n",
       "      <th>Killed Min</th>\n",
       "      <th>Killed Max</th>\n",
       "      <th>Injured Min</th>\n",
       "      <th>Injured Max</th>\n",
       "      <th>No. of Suicide Blasts</th>\n",
       "      <th>Explosive Weight (max)</th>\n",
       "      <th>Temperature(C)</th>\n",
       "      <th>Temperature(F)</th>\n",
       "      <th>Killed</th>\n",
       "      <th>Injured</th>\n",
       "    </tr>\n",
       "  </thead>\n",
       "  <tbody>\n",
       "    <tr>\n",
       "      <th>0</th>\n",
       "      <td>1</td>\n",
       "      <td>1995-11-19 00:00:00</td>\n",
       "      <td>Holiday</td>\n",
       "      <td>Islamabad</td>\n",
       "      <td>33.7180</td>\n",
       "      <td>73.0718</td>\n",
       "      <td>Capital</td>\n",
       "      <td>Egyptian Embassy</td>\n",
       "      <td>Foreign</td>\n",
       "      <td>High</td>\n",
       "      <td>...</td>\n",
       "      <td>14.0</td>\n",
       "      <td>15.0</td>\n",
       "      <td>0.0</td>\n",
       "      <td>60.0</td>\n",
       "      <td>2.0</td>\n",
       "      <td>NaN</td>\n",
       "      <td>15.835</td>\n",
       "      <td>60.503</td>\n",
       "      <td>15.0</td>\n",
       "      <td>30.0</td>\n",
       "    </tr>\n",
       "    <tr>\n",
       "      <th>1</th>\n",
       "      <td>2</td>\n",
       "      <td>2000-11-06 00:00:00</td>\n",
       "      <td>Working Day</td>\n",
       "      <td>Karachi</td>\n",
       "      <td>24.9918</td>\n",
       "      <td>66.9911</td>\n",
       "      <td>Sindh</td>\n",
       "      <td>office of Nawa-e-Waqt</td>\n",
       "      <td>Office Building</td>\n",
       "      <td>Low</td>\n",
       "      <td>...</td>\n",
       "      <td>0.0</td>\n",
       "      <td>3.0</td>\n",
       "      <td>0.0</td>\n",
       "      <td>3.0</td>\n",
       "      <td>1.0</td>\n",
       "      <td>NaN</td>\n",
       "      <td>23.770</td>\n",
       "      <td>74.786</td>\n",
       "      <td>2.0</td>\n",
       "      <td>2.0</td>\n",
       "    </tr>\n",
       "    <tr>\n",
       "      <th>2</th>\n",
       "      <td>3</td>\n",
       "      <td>2002-05-08 00:00:00</td>\n",
       "      <td>Working Day</td>\n",
       "      <td>Karachi</td>\n",
       "      <td>24.9918</td>\n",
       "      <td>66.9911</td>\n",
       "      <td>Sindh</td>\n",
       "      <td>Pakistan Navy bus Parked outside Five Star She...</td>\n",
       "      <td>Hotel</td>\n",
       "      <td>Medium</td>\n",
       "      <td>...</td>\n",
       "      <td>13.0</td>\n",
       "      <td>15.0</td>\n",
       "      <td>20.0</td>\n",
       "      <td>40.0</td>\n",
       "      <td>1.0</td>\n",
       "      <td>2.5 Kg</td>\n",
       "      <td>31.460</td>\n",
       "      <td>88.628</td>\n",
       "      <td>14.0</td>\n",
       "      <td>30.0</td>\n",
       "    </tr>\n",
       "    <tr>\n",
       "      <th>3</th>\n",
       "      <td>4</td>\n",
       "      <td>2002-06-14 00:00:00</td>\n",
       "      <td>Working Day</td>\n",
       "      <td>Karachi</td>\n",
       "      <td>24.9918</td>\n",
       "      <td>66.9911</td>\n",
       "      <td>Sindh</td>\n",
       "      <td>US Consulate Civil Lines Area</td>\n",
       "      <td>Foreign</td>\n",
       "      <td>High</td>\n",
       "      <td>...</td>\n",
       "      <td>0.0</td>\n",
       "      <td>12.0</td>\n",
       "      <td>0.0</td>\n",
       "      <td>51.0</td>\n",
       "      <td>1.0</td>\n",
       "      <td>NaN</td>\n",
       "      <td>31.430</td>\n",
       "      <td>88.574</td>\n",
       "      <td>6.0</td>\n",
       "      <td>26.0</td>\n",
       "    </tr>\n",
       "    <tr>\n",
       "      <th>4</th>\n",
       "      <td>5</td>\n",
       "      <td>2003-07-04 00:00:00</td>\n",
       "      <td>Working Day</td>\n",
       "      <td>Quetta</td>\n",
       "      <td>30.2095</td>\n",
       "      <td>67.0182</td>\n",
       "      <td>Baluchistan</td>\n",
       "      <td>Imambargah MeCongy Road Quetta</td>\n",
       "      <td>Religious</td>\n",
       "      <td>Medium</td>\n",
       "      <td>...</td>\n",
       "      <td>44.0</td>\n",
       "      <td>47.0</td>\n",
       "      <td>0.0</td>\n",
       "      <td>65.0</td>\n",
       "      <td>1.0</td>\n",
       "      <td>NaN</td>\n",
       "      <td>33.120</td>\n",
       "      <td>91.616</td>\n",
       "      <td>46.0</td>\n",
       "      <td>33.0</td>\n",
       "    </tr>\n",
       "  </tbody>\n",
       "</table>\n",
       "<p>5 rows × 23 columns</p>\n",
       "</div>"
      ],
      "text/plain": [
       "   S#                 Date Blast Day Type       City  Latitude Longitude  \\\n",
       "0   1  1995-11-19 00:00:00        Holiday  Islamabad   33.7180   73.0718   \n",
       "1   2  2000-11-06 00:00:00    Working Day    Karachi   24.9918   66.9911   \n",
       "2   3  2002-05-08 00:00:00    Working Day   Karachi    24.9918   66.9911   \n",
       "3   4  2002-06-14 00:00:00    Working Day    Karachi   24.9918   66.9911   \n",
       "4   5  2003-07-04 00:00:00    Working Day     Quetta   30.2095   67.0182   \n",
       "\n",
       "      Province                                           Location  \\\n",
       "0      Capital                                   Egyptian Embassy   \n",
       "1        Sindh                              office of Nawa-e-Waqt   \n",
       "2        Sindh  Pakistan Navy bus Parked outside Five Star She...   \n",
       "3        Sindh                     US Consulate Civil Lines Area    \n",
       "4  Baluchistan                     Imambargah MeCongy Road Quetta   \n",
       "\n",
       "  Location Category Location Sensitivity   ...    Killed Min Killed Max  \\\n",
       "0           Foreign                 High   ...          14.0       15.0   \n",
       "1   Office Building                  Low   ...           0.0        3.0   \n",
       "2             Hotel               Medium   ...          13.0       15.0   \n",
       "3           Foreign                 High   ...           0.0       12.0   \n",
       "4         Religious               Medium   ...          44.0       47.0   \n",
       "\n",
       "  Injured Min  Injured Max  No. of Suicide Blasts  Explosive Weight (max)  \\\n",
       "0         0.0         60.0                    2.0                     NaN   \n",
       "1         0.0          3.0                    1.0                     NaN   \n",
       "2        20.0         40.0                    1.0                  2.5 Kg   \n",
       "3         0.0         51.0                    1.0                     NaN   \n",
       "4         0.0         65.0                    1.0                     NaN   \n",
       "\n",
       "   Temperature(C)  Temperature(F) Killed  Injured  \n",
       "0          15.835          60.503   15.0     30.0  \n",
       "1          23.770          74.786    2.0      2.0  \n",
       "2          31.460          88.628   14.0     30.0  \n",
       "3          31.430          88.574    6.0     26.0  \n",
       "4          33.120          91.616   46.0     33.0  \n",
       "\n",
       "[5 rows x 23 columns]"
      ]
     },
     "execution_count": 20,
     "metadata": {},
     "output_type": "execute_result"
    }
   ],
   "source": [
    "s_data.head()"
   ]
  },
  {
   "cell_type": "markdown",
   "metadata": {},
   "source": [
    "### 1.4 Grouping the attacks by Year, Month and Day of Week"
   ]
  },
  {
   "cell_type": "code",
   "execution_count": 22,
   "metadata": {},
   "outputs": [
    {
     "name": "stderr",
     "output_type": "stream",
     "text": [
      "/Users/harshitsrivastava/anaconda2/lib/python2.7/site-packages/ipykernel_launcher.py:7: SettingWithCopyWarning: \n",
      "A value is trying to be set on a copy of a slice from a DataFrame\n",
      "\n",
      "See the caveats in the documentation: http://pandas.pydata.org/pandas-docs/stable/indexing.html#indexing-view-versus-copy\n",
      "  import sys\n",
      "/Users/harshitsrivastava/anaconda2/lib/python2.7/site-packages/ipykernel_launcher.py:8: SettingWithCopyWarning: \n",
      "A value is trying to be set on a copy of a slice from a DataFrame\n",
      "\n",
      "See the caveats in the documentation: http://pandas.pydata.org/pandas-docs/stable/indexing.html#indexing-view-versus-copy\n",
      "  \n",
      "/Users/harshitsrivastava/anaconda2/lib/python2.7/site-packages/ipykernel_launcher.py:9: SettingWithCopyWarning: \n",
      "A value is trying to be set on a copy of a slice from a DataFrame\n",
      "\n",
      "See the caveats in the documentation: http://pandas.pydata.org/pandas-docs/stable/indexing.html#indexing-view-versus-copy\n",
      "  if __name__ == '__main__':\n"
     ]
    }
   ],
   "source": [
    "# Extracting Year, Month and Day of week from the given Date-Time format\n",
    "s_data['Year'] = np.nan\n",
    "s_data['Weekday'] = np.nan\n",
    "s_data['Month'] = np.nan\n",
    "\n",
    "for i in range(0, len(s_data.Year)):\n",
    "    s_data.loc[:,'Year'][i]= s_data.loc[:,'Date'][i].year\n",
    "    s_data.loc[:,'Weekday'][i] = s_data['Date'][i].weekday()\n",
    "    s_data.loc[:,'Month'][i] = s_data['Date'][i].month\n",
    "    \n",
    "s_data['Year'] = s_data['Year'].astype(\"int\")\n",
    "s_data['Weekday'] = s_data['Weekday'].astype(\"int\")\n",
    "\n",
    "s_data_byyear = pd.DataFrame()\n",
    "\n",
    "# Grouping the data by Year and corresponding Suicide Blast Statistics\n",
    "s_data_byyear['No. of Suicide Blasts'] = s_data.groupby(['Year'])['No. of Suicide Blasts'].sum()\n",
    "# Storing the average Civilians killed in an attack\n",
    "s_data_byyear['Avg Civilians Killed'] = s_data.groupby(['Year'])['Killed'].mean()\n",
    "# Storing the Total Civilians killed \n",
    "s_data_byyear['Killed'] = s_data.groupby(['Year'])['Killed'].sum()\n",
    "# Storing the Total Civilians Injured \n",
    "s_data_byyear['Injured'] = s_data.groupby(['Year'])['Injured'].sum()\n",
    "# Storing the Average no. of Civilians Killed in an attack \n",
    "s_data_byyear['Avg. Civ_killed'] = s_data.groupby(['Year'])['Killed'].mean()"
   ]
  },
  {
   "cell_type": "markdown",
   "metadata": {},
   "source": [
    "# 2. Eploratory Data Analysis"
   ]
  },
  {
   "cell_type": "markdown",
   "metadata": {},
   "source": [
    "### 2.1.1 Suicide Bombing Attacks by Year"
   ]
  },
  {
   "cell_type": "code",
   "execution_count": 23,
   "metadata": {},
   "outputs": [
    {
     "data": {
      "image/png": "[encoded data removed]",
      "text/plain": [
       "<matplotlib.figure.Figure at 0x10f0f55d0>"
      ]
     },
     "metadata": {},
     "output_type": "display_data"
    }
   ],
   "source": [
    "fig1 = plt.figure(figsize=(14, 10))\n",
    "fig1 = plt.bar(left=list(s_data_byyear['No. of Suicide Blasts'].keys()), height=s_by_year.values)\n",
    "plt.xlabel(\"Year\")\n",
    "plt.ylabel(\"No. of attacks\")\n",
    "plt.title(\"Suicide Bombing attacks by Year\")\n",
    "plt.xticks(range(1995, 2018))\n",
    "plt.grid()\n",
    "plt.show()"
   ]
  },
  {
   "cell_type": "markdown",
   "metadata": {},
   "source": [
    "### 2.1.2 Suicide Bombing Attacks by Month"
   ]
  },
  {
   "cell_type": "code",
   "execution_count": 24,
   "metadata": {},
   "outputs": [
    {
     "data": {
      "image/png": "[encoded data removed]",
      "text/plain": [
       "<matplotlib.figure.Figure at 0x10f1ff6d0>"
      ]
     },
     "metadata": {},
     "output_type": "display_data"
    }
   ],
   "source": [
    "fig1 = plt.figure(figsize=(14, 10))\n",
    "fig1 = plt.bar(left=list(s_data_byyear['Avg. Civ_killed'].keys()), height=s_by_avgciv.values)\n",
    "plt.xlabel(\"Year\")\n",
    "plt.ylabel(\"Civilian Casualty\")\n",
    "plt.title(\"Average no. of Civilians killed in an attack\")\n",
    "plt.xticks(range(1995, 2018))\n",
    "plt.grid()\n",
    "plt.show()"
   ]
  },
  {
   "cell_type": "markdown",
   "metadata": {},
   "source": [
    "### 2.2 Combining the Drone-attack data to visualize and compare the 2 Attacks"
   ]
  },
  {
   "cell_type": "code",
   "execution_count": 26,
   "metadata": {
    "collapsed": true
   },
   "outputs": [],
   "source": [
    "%store -r data_byyear\n",
    "\n",
    "result = pd.merge(s_data_byyear, data_byyear, left_index=True, right_index=True)"
   ]
  },
  {
   "cell_type": "markdown",
   "metadata": {},
   "source": [
    "### 2.2.1 Number of Civilians Killed by Each of the Strikes"
   ]
  },
  {
   "cell_type": "code",
   "execution_count": 27,
   "metadata": {},
   "outputs": [
    {
     "data": {
      "text/plain": [
       "<matplotlib.figure.Figure at 0x10f827990>"
      ]
     },
     "metadata": {},
     "output_type": "display_data"
    },
    {
     "data": {
      "image/png": "[encoded data removed]",
      "text/plain": [
       "<matplotlib.figure.Figure at 0x10fae6050>"
      ]
     },
     "metadata": {},
     "output_type": "display_data"
    }
   ],
   "source": [
    "fig = plt.figure(figsize=(14, 10))\n",
    "\n",
    "x = data_byyear.Innocents.keys()\n",
    "\n",
    "plt.bar(x - 0.1, result['Killed'], width=0.2, color='r',align='center', label = 'Suicide Bombing')\n",
    "plt.bar(x + 0.1, result['Innocents'],width=0.2,color='b',align='center', label = 'Drone Attacks')\n",
    "#plt.ylim(ymin=0)\n",
    "plt.xticks(range(2004, 2018))\n",
    "plt.xlabel(\"YEAR\", fontsize = 16)\n",
    "plt.ylabel(\"Number of people killed\", fontsize = 18)\n",
    "plt.title(\"Number of Civilians Killed over the Years\", fontsize = 22)\n",
    "plt.legend(fontsize = 15)\n",
    "plt.grid()\n",
    "plt.show()"
   ]
  },
  {
   "cell_type": "markdown",
   "metadata": {},
   "source": [
    "### 2.2.2 Comparing the Terrorists killed by Drone Strikes and Civilians killed by Suicide Bombings"
   ]
  },
  {
   "cell_type": "code",
   "execution_count": 28,
   "metadata": {},
   "outputs": [
    {
     "data": {
      "image/png": "[encoded data removed]",
      "text/plain": [
       "<matplotlib.figure.Figure at 0x10faeed10>"
      ]
     },
     "metadata": {},
     "output_type": "display_data"
    }
   ],
   "source": [
    "fig = plt.figure(figsize=(14, 10))\n",
    "\n",
    "x = result.Terrorists.keys()\n",
    "\n",
    "plt.bar(x - 0.1, result['Killed'], width=0.2, color='r',align='center', label = 'Suicide Bombing')\n",
    "plt.bar(x + 0.1, result['Terrorists'],width=0.2,color='g',align='center', label = 'Drone Attacks')\n",
    "#plt.ylim(ymin=0)\n",
    "plt.xticks(range(2004, 2018))\n",
    "plt.xlabel(\"YEAR\")\n",
    "plt.ylabel(\"No. of people killed\")\n",
    "plt.title(\"No. of Civilians Killed vs No. of Terrorists Killed\")\n",
    "plt.legend()\n",
    "plt.show()"
   ]
  },
  {
   "cell_type": "markdown",
   "metadata": {},
   "source": [
    "### 2.2.3 Comparing Civilian Deaths cause by both Attacks"
   ]
  },
  {
   "cell_type": "code",
   "execution_count": 29,
   "metadata": {},
   "outputs": [
    {
     "data": {
      "image/png": "[encoded data removed]",
      "text/plain": [
       "<matplotlib.figure.Figure at 0x10ffb2e50>"
      ]
     },
     "metadata": {},
     "output_type": "display_data"
    }
   ],
   "source": [
    "fig = plt.figure(figsize=(14, 10))\n",
    "\n",
    "x = result.Terrorists.keys()\n",
    "\n",
    "plt.bar(x - 0.1, result['Avg Civilians Killed'], width=0.2, color='r',align='center', label = 'Suicide Bombing')\n",
    "plt.bar(x + 0.1, result['Avg Innocents Killed'],width=0.2,color='b',align='center', label = 'Drone Attacks')\n",
    "#plt.ylim(ymin=0)\n",
    "plt.xticks(range(2004, 2018))\n",
    "plt.xlabel(\"YEAR\", fontsize = 16)\n",
    "plt.ylabel(\"Number of people killed\", fontsize = 18)\n",
    "plt.title(\"Civilian Death rate per attack\", fontsize = 22)\n",
    "plt.legend( fontsize = 16)\n",
    "plt.grid()\n",
    "plt.show()"
   ]
  }
 ],
 "metadata": {
  "kernelspec": {
   "display_name": "Python 2",
   "language": "python",
   "name": "python2"
  },
  "language_info": {
   "codemirror_mode": {
    "name": "ipython",
    "version": 2
   },
   "file_extension": ".py",
   "mimetype": "text/x-python",
   "name": "python",
   "nbconvert_exporter": "python",
   "pygments_lexer": "ipython2",
   "version": "2.7.13"
  }
 },
 "nbformat": 4,
 "nbformat_minor": 2
}
